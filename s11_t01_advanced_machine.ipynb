{
 "cells": [
  {
   "cell_type": "markdown",
   "id": "857001a9",
   "metadata": {},
   "source": [
    "$~$\n",
    "\n",
    "# IT Academy - Data Science Itinerary\n",
    "\n",
    "\n",
    "\n",
    "$~$"
   ]
  },
  {
   "cell_type": "markdown",
   "id": "ad6e86cc",
   "metadata": {},
   "source": [
    "## S12 T01: Advanced machine learning\n",
    "\n",
    "___\n"
   ]
  },
  {
   "cell_type": "code",
   "execution_count": null,
   "id": "343f71ef",
   "metadata": {},
   "outputs": [],
   "source": [
    "#importing libraries\n"
   ]
  },
  {
   "cell_type": "markdown",
   "id": "7557656a",
   "metadata": {},
   "source": [
    "$~$\n",
    "___\n",
    "####  Exercise 1\n",
    "\n",
    "$~$\n",
    "\n",
    "Grab the data set you want and do a pipeline and a gridsearch using the Random Forest algorithm.\n",
    "\n",
    "\n",
    "$~$\n",
    "___"
   ]
  },
  {
   "cell_type": "markdown",
   "id": "214112c9",
   "metadata": {},
   "source": [
    "$~$\n",
    "___\n",
    "####  Exercise 2\n",
    "\n",
    "$~$\n",
    "\n",
    "Take a text in English that you want, and calculate the frequency of the words\n",
    "\n",
    "\n",
    "\n",
    "$~$\n",
    "___"
   ]
  },
  {
   "cell_type": "markdown",
   "id": "d7caa1ff",
   "metadata": {},
   "source": [
    "$~$\n",
    "___\n",
    "####  Exercise 3\n",
    "\n",
    "$~$\n",
    "\n",
    "Remove the stopwords and stemming your dataset.\n",
    "\n",
    "\n",
    "$~$\n",
    "___"
   ]
  },
  {
   "cell_type": "markdown",
   "id": "acf7a829",
   "metadata": {},
   "source": [
    "$~$\n",
    "___\n",
    "####  Exercise 4\n",
    "\n",
    "$~$\n",
    "\n",
    "Perform sentiment analysis on your dataset..\n",
    "\n",
    "\n",
    "$~$\n",
    "___"
   ]
  },
  {
   "cell_type": "markdown",
   "id": "dca1eb0c",
   "metadata": {},
   "source": [
    "$~$\n",
    "___\n",
    "####  Conclusions\n",
    "\n",
    "$~$\n",
    "\n",
    "\n",
    "\n",
    "\n",
    "___\n",
    "$~$"
   ]
  },
  {
   "cell_type": "markdown",
   "id": "d0eedf5c",
   "metadata": {},
   "source": [
    "___\n",
    "$~$\n",
    "\n",
    "####  *References*:\n",
    "\n",
    "+ []() \n",
    "+ []() \n",
    "+ []() \n",
    "$~$\n",
    "___"
   ]
  }
 ],
 "metadata": {
  "kernelspec": {
   "display_name": "Python 3 (ipykernel)",
   "language": "python",
   "name": "python3"
  },
  "language_info": {
   "codemirror_mode": {
    "name": "ipython",
    "version": 3
   },
   "file_extension": ".py",
   "mimetype": "text/x-python",
   "name": "python",
   "nbconvert_exporter": "python",
   "pygments_lexer": "ipython3",
   "version": "3.9.7"
  },
  "toc": {
   "base_numbering": 1,
   "nav_menu": {},
   "number_sections": false,
   "sideBar": true,
   "skip_h1_title": false,
   "title_cell": "Table of Contents",
   "title_sidebar": "Contents",
   "toc_cell": false,
   "toc_position": {},
   "toc_section_display": true,
   "toc_window_display": true
  }
 },
 "nbformat": 4,
 "nbformat_minor": 5
}
